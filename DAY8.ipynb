{
  "nbformat": 4,
  "nbformat_minor": 0,
  "metadata": {
    "colab": {
      "name": "Untitled1.ipynb",
      "provenance": [],
      "collapsed_sections": [],
      "authorship_tag": "ABX9TyM6hrMjUdQXJ/mBgswe45BU",
      "include_colab_link": true
    },
    "kernelspec": {
      "name": "python3",
      "display_name": "Python 3"
    }
  },
  "cells": [
    {
      "cell_type": "markdown",
      "metadata": {
        "id": "view-in-github",
        "colab_type": "text"
      },
      "source": [
        "<a href=\"https://colab.research.google.com/github/sejalsingh417/LetsUpgrade-Pythonb7se/blob/master/DAY8.ipynb\" target=\"_parent\"><img src=\"https://colab.research.google.com/assets/colab-badge.svg\" alt=\"Open In Colab\"/></a>"
      ]
    },
    {
      "cell_type": "markdown",
      "metadata": {
        "id": "pJ9Mc_eJ46jk",
        "colab_type": "text"
      },
      "source": [
        "ASSIGNMENT-1 DAY8\n",
        "#Q1"
      ]
    },
    {
      "cell_type": "code",
      "metadata": {
        "id": "0FfYySgl4_7o",
        "colab_type": "code",
        "colab": {
          "base_uri": "https://localhost:8080/",
          "height": 68
        },
        "outputId": "66d1277b-dfcc-4520-b142-a80afc94a23b"
      },
      "source": [
        "def adecor(fun):\n",
        "        print(\"Enter Number you want to check whether it is Even or odd : \")\n",
        "        a = int(input())\n",
        "        fun(a)\n",
        "@adecor\n",
        "def method(x):\n",
        "    if x%2 == 0:\n",
        "        print(\"Number is even\")\n",
        "    else:\n",
        "        print(\"Number is odd\")\n"
      ],
      "execution_count": 1,
      "outputs": [
        {
          "output_type": "stream",
          "text": [
            "Enter Number you want to check whether it is Even or odd : \n",
            "57\n",
            "Number is odd\n"
          ],
          "name": "stdout"
        }
      ]
    },
    {
      "cell_type": "markdown",
      "metadata": {
        "id": "lzbKQ30B5La8",
        "colab_type": "text"
      },
      "source": [
        "ASSIGNMENT-2 DAY8\n",
        "#Q2\n"
      ]
    },
    {
      "cell_type": "code",
      "metadata": {
        "id": "XJt5kJ5Y5Pbx",
        "colab_type": "code",
        "colab": {
          "base_uri": "https://localhost:8080/",
          "height": 34
        },
        "outputId": "998412ce-9337-4a53-c76a-dca494c28102"
      },
      "source": [
        "%%writefile go.txt\n",
        "print(\"hello\")"
      ],
      "execution_count": 2,
      "outputs": [
        {
          "output_type": "stream",
          "text": [
            "Writing go.txt\n"
          ],
          "name": "stdout"
        }
      ]
    },
    {
      "cell_type": "code",
      "metadata": {
        "id": "vIYW7ivr5YrO",
        "colab_type": "code",
        "colab": {
          "base_uri": "https://localhost:8080/",
          "height": 51
        },
        "outputId": "02494af6-e94c-4874-9073-85b3a2fa4754"
      },
      "source": [
        "file = open (\"go.txt\",\"r\")\n",
        "try:\n",
        "    file.write(\"This could be the second line of the file.\")\n",
        "except Exception as a:\n",
        "    print(\"File is opened in reading mode\")\n",
        "    print(\"Error is : \",a)"
      ],
      "execution_count": 3,
      "outputs": [
        {
          "output_type": "stream",
          "text": [
            "File is opened in reading mode\n",
            "Error is :  not writable\n"
          ],
          "name": "stdout"
        }
      ]
    }
  ]
}