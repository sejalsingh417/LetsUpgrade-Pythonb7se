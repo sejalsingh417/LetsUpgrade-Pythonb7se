{
  "nbformat": 4,
  "nbformat_minor": 0,
  "metadata": {
    "colab": {
      "name": "Untitled2.ipynb",
      "provenance": [],
      "collapsed_sections": [],
      "authorship_tag": "ABX9TyNolSgFddqkV0g1rT3dKTDz",
      "include_colab_link": true
    },
    "kernelspec": {
      "name": "python3",
      "display_name": "Python 3"
    }
  },
  "cells": [
    {
      "cell_type": "markdown",
      "metadata": {
        "id": "view-in-github",
        "colab_type": "text"
      },
      "source": [
        "<a href=\"https://colab.research.google.com/github/sejalsingh417/LetsUpgrade-Pythonb7se/blob/master/DAY9.ipynb\" target=\"_parent\"><img src=\"https://colab.research.google.com/assets/colab-badge.svg\" alt=\"Open In Colab\"/></a>"
      ]
    },
    {
      "cell_type": "markdown",
      "metadata": {
        "id": "cgFUSAzN6qOh",
        "colab_type": "text"
      },
      "source": [
        "#Q1\n"
      ]
    },
    {
      "cell_type": "code",
      "metadata": {
        "id": "XdRPYsN26tCv",
        "colab_type": "code",
        "colab": {
          "base_uri": "https://localhost:8080/",
          "height": 259
        },
        "outputId": "e86f3645-d0d5-4c0b-f5f3-7e153f13e988"
      },
      "source": [
        "! pip install Pylint"
      ],
      "execution_count": 28,
      "outputs": [
        {
          "output_type": "stream",
          "text": [
            "Requirement already satisfied: Pylint in /usr/local/lib/python3.6/dist-packages (2.6.0)\n",
            "Requirement already satisfied: astroid<=2.5,>=2.4.0 in /usr/local/lib/python3.6/dist-packages (from Pylint) (2.4.2)\n",
            "Requirement already satisfied: toml>=0.7.1 in /usr/local/lib/python3.6/dist-packages (from Pylint) (0.10.1)\n",
            "Requirement already satisfied: mccabe<0.7,>=0.6 in /usr/local/lib/python3.6/dist-packages (from Pylint) (0.6.1)\n",
            "Requirement already satisfied: isort<6,>=4.2.5 in /usr/local/lib/python3.6/dist-packages (from Pylint) (5.5.2)\n",
            "Requirement already satisfied: six~=1.12 in /usr/local/lib/python3.6/dist-packages (from astroid<=2.5,>=2.4.0->Pylint) (1.15.0)\n",
            "Requirement already satisfied: wrapt~=1.11 in /usr/local/lib/python3.6/dist-packages (from astroid<=2.5,>=2.4.0->Pylint) (1.12.1)\n",
            "Requirement already satisfied: typed-ast<1.5,>=1.4.0; implementation_name == \"cpython\" and python_version < \"3.8\" in /usr/local/lib/python3.6/dist-packages (from astroid<=2.5,>=2.4.0->Pylint) (1.4.1)\n",
            "Requirement already satisfied: lazy-object-proxy==1.4.* in /usr/local/lib/python3.6/dist-packages (from astroid<=2.5,>=2.4.0->Pylint) (1.4.3)\n"
          ],
          "name": "stdout"
        }
      ]
    },
    {
      "cell_type": "code",
      "metadata": {
        "id": "j1y_Wl1k7K_f",
        "colab_type": "code",
        "colab": {
          "base_uri": "https://localhost:8080/",
          "height": 34
        },
        "outputId": "85011cd3-aa66-45b3-e105-3029c5443ec3"
      },
      "source": [
        "%%writefile prime.txt\n",
        "\n",
        "'''\n",
        "This function is made to check input_no number if it is input_no prime number or not\n",
        "'''\n",
        "\n",
        "def isprime():\n",
        "    '''\n",
        "    This is function is doing all the checking\n",
        "    '''\n",
        "    print(\"Enter input_no number to check whether it is prime or not :\")\n",
        "    input_no = int(input())\n",
        "    if input_no > 1:\n",
        "        for help_no in range (2,input_no):\n",
        "            if ( input_no% help_no) == 0 :\n",
        "                print( help_no, 'times',input_no// help_no, 'is',input_no)\n",
        "                print( \"is not prime number\")\n",
        "                break\n",
        "        else:\n",
        "            print( input_no,'is prime number')\n"
      ],
      "execution_count": 19,
      "outputs": [
        {
          "output_type": "stream",
          "text": [
            "Overwriting prime.txt\n"
          ],
          "name": "stdout"
        }
      ]
    },
    {
      "cell_type": "code",
      "metadata": {
        "id": "gcabF4UG-WXd",
        "colab_type": "code",
        "colab": {
          "base_uri": "https://localhost:8080/",
          "height": 119
        },
        "outputId": "4c6ac19f-6037-4c30-f59a-524b8ba2130e"
      },
      "source": [
        "! pylint prime.txt"
      ],
      "execution_count": 31,
      "outputs": [
        {
          "output_type": "stream",
          "text": [
            "************* Module prime\n",
            "prime.txt:19:0: C0304: Final newline missing (missing-final-newline)\n",
            "\n",
            "------------------------------------------------------------------\n",
            "Your code has been rated at 9.00/10 (previous run: 9.00/10, +0.00)\n",
            "\n"
          ],
          "name": "stdout"
        }
      ]
    },
    {
      "cell_type": "code",
      "metadata": {
        "id": "NnaIvr55-mVy",
        "colab_type": "code",
        "colab": {
          "base_uri": "https://localhost:8080/",
          "height": 34
        },
        "outputId": "b7c8cfbc-4694-4d9b-cb73-c8a1403755be"
      },
      "source": [
        "%%writefile forunittest.txt\n",
        "\n",
        "import unittest\n",
        "def isprime():\n",
        "    '''\n",
        "    This is function is doing all the checking\n",
        "    '''\n",
        "    print(\"Enter input_no number to check whether it is prime or not :\")\n",
        "    input_no = int(input())\n",
        "    if input_no > 1:\n",
        "        for help_no in range (2, input_no):\n",
        "            if ( input_no% help_no) == 0 :\n",
        "                print( help_no, 'times',input_no// help_no, 'is',input_no)\n",
        "                print( \"is not prime number\")\n",
        "                break\n",
        "        else:\n",
        "            print( input_no, 'is prime number')\n",
        "            \n",
        "if __name__ == \"__main__\" :\n",
        "    unittest.main()"
      ],
      "execution_count": 21,
      "outputs": [
        {
          "output_type": "stream",
          "text": [
            "Overwriting forunittest.txt\n"
          ],
          "name": "stdout"
        }
      ]
    },
    {
      "cell_type": "code",
      "metadata": {
        "id": "C6Vg1-bl_IVe",
        "colab_type": "code",
        "colab": {
          "base_uri": "https://localhost:8080/",
          "height": 102
        },
        "outputId": "4bf8185b-fdfe-4ff4-87f7-f49e84d8a674"
      },
      "source": [
        "! python forunittest.txt"
      ],
      "execution_count": 22,
      "outputs": [
        {
          "output_type": "stream",
          "text": [
            "\n",
            "----------------------------------------------------------------------\n",
            "Ran 0 tests in 0.000s\n",
            "\n",
            "OK\n"
          ],
          "name": "stdout"
        }
      ]
    },
    {
      "cell_type": "markdown",
      "metadata": {
        "id": "-oU7Hznl_P8G",
        "colab_type": "text"
      },
      "source": [
        "#Q2"
      ]
    },
    {
      "cell_type": "code",
      "metadata": {
        "id": "fGaL44NU_Svx",
        "colab_type": "code",
        "colab": {}
      },
      "source": [
        "def armstrong():\n",
        "    print(\"Armstrong numbers in range of 1 to 1000 are :\")\n",
        "    for x in range(1,1001):\n",
        "        sum=0\n",
        "        order=len(str(x))\n",
        "        temp=x  \n",
        "        while temp>0:\n",
        "            digit=temp%10\n",
        "            sum += digit** order\n",
        "            temp //= 10    \n",
        "        if x==sum:\n",
        "            yield(x)"
      ],
      "execution_count": 29,
      "outputs": []
    },
    {
      "cell_type": "code",
      "metadata": {
        "id": "pyp3j68p_-we",
        "colab_type": "code",
        "colab": {
          "base_uri": "https://localhost:8080/",
          "height": 51
        },
        "outputId": "13c0c44b-a3b4-4b17-a15a-2b0adb449399"
      },
      "source": [
        "list(armstrong())\n"
      ],
      "execution_count": 30,
      "outputs": [
        {
          "output_type": "stream",
          "text": [
            "Armstrong numbers in range of 1 to 1000 are :\n"
          ],
          "name": "stdout"
        },
        {
          "output_type": "execute_result",
          "data": {
            "text/plain": [
              "[1, 2, 3, 4, 5, 6, 7, 8, 9, 153, 370, 371, 407]"
            ]
          },
          "metadata": {
            "tags": []
          },
          "execution_count": 30
        }
      ]
    }
  ]
}