{
  "nbformat": 4,
  "nbformat_minor": 0,
  "metadata": {
    "colab": {
      "name": "Untitled0.ipynb",
      "provenance": [],
      "authorship_tag": "ABX9TyMz/F33DdByjhpSK3zUDxtV",
      "include_colab_link": true
    },
    "kernelspec": {
      "name": "python3",
      "display_name": "Python 3"
    }
  },
  "cells": [
    {
      "cell_type": "markdown",
      "metadata": {
        "id": "view-in-github",
        "colab_type": "text"
      },
      "source": [
        "<a href=\"https://colab.research.google.com/github/sejalsingh417/LetsUpgrade-Pythonb7se/blob/master/se.ipynb\" target=\"_parent\"><img src=\"https://colab.research.google.com/assets/colab-badge.svg\" alt=\"Open In Colab\"/></a>"
      ]
    },
    {
      "cell_type": "code",
      "metadata": {
        "id": "9Zxya1t514-M",
        "colab_type": "code",
        "colab": {}
      },
      "source": [
        ""
      ],
      "execution_count": null,
      "outputs": []
    },
    {
      "cell_type": "markdown",
      "metadata": {
        "id": "ccPqLEI-1-Lr",
        "colab_type": "text"
      },
      "source": [
        "ASSIGNMENT-1 DAY6\n",
        "#Q1\n"
      ]
    },
    {
      "cell_type": "code",
      "metadata": {
        "id": "19W1GqqM2DGg",
        "colab_type": "code",
        "colab": {
          "base_uri": "https://localhost:8080/",
          "height": 340
        },
        "outputId": "a0cc50a9-2bbd-4c94-9d2a-b2ad30a38a05"
      },
      "source": [
        "class bank_account:                                                            \n",
        "    ownername = \"Sejal\"\n",
        "    balance = 200\n",
        "    def deposit(self):\n",
        "        print(\"Enter the amount you want to deposit:- \")\n",
        "        a = int( input() )\n",
        "        self.balance = self.balance + a\n",
        "        print(\"Balance after deposit :- \",self.balance)\n",
        "    def withdraw(self):\n",
        "        print(\"Enter the amount you want to withdraw:- \")\n",
        "        b=int(input())\n",
        "        if b>self.balance:\n",
        "            print(\"Account don't have enough money left.\\nYour current balance is :-\",self.balance)\n",
        "        else:\n",
        "            self.balance = self.balance - b\n",
        "            print(\"Balance after withdrawal:- \",self.balance)\n",
        "b1 = bank_account()\n",
        "b1.deposit()\n",
        "b1.withdraw()\n",
        "b1.deposit()\n",
        "b1.deposit()\n",
        "b1.withdraw()\n",
        "b1.deposit()\n"
      ],
      "execution_count": 1,
      "outputs": [
        {
          "output_type": "stream",
          "text": [
            "Enter the amount you want to deposit:- \n",
            "1000\n",
            "Balance after deposit :-  1200\n",
            "Enter the amount you want to withdraw:- \n",
            "2500\n",
            "Account don't have enough money left.\n",
            "Your current balance is :- 1200\n",
            "Enter the amount you want to deposit:- \n",
            "122\n",
            "Balance after deposit :-  1322\n",
            "Enter the amount you want to deposit:- \n",
            "100\n",
            "Balance after deposit :-  1422\n",
            "Enter the amount you want to withdraw:- \n",
            "100\n",
            "Balance after withdrawal:-  1322\n",
            "Enter the amount you want to deposit:- \n",
            "200\n",
            "Balance after deposit :-  1522\n"
          ],
          "name": "stdout"
        }
      ]
    },
    {
      "cell_type": "markdown",
      "metadata": {
        "id": "a2hktK3I22Ew",
        "colab_type": "text"
      },
      "source": [
        "ASSIGNMENT-2 DAY6\n",
        "#Q2"
      ]
    },
    {
      "cell_type": "code",
      "metadata": {
        "id": "g0oDRqTk2_sV",
        "colab_type": "code",
        "colab": {
          "base_uri": "https://localhost:8080/",
          "height": 119
        },
        "outputId": "3d1cffec-96a2-41aa-a371-49940d6b7426"
      },
      "source": [
        "import math\n",
        "class cone:\n",
        "    print(\"Enter the radius of the cone :- \")\n",
        "    R = int(input())\n",
        "    print(\"Enter the height of the cone :- \")\n",
        "    h = int(input())\n",
        "    def Volume(self):\n",
        "        a =  ( 3.14 * self.R**2 * self.h)/3 \n",
        "        print (\"Volume of cone is :-\",a)\n",
        "    def surface_area(self):\n",
        "        base = 3.14 * self.R**2\n",
        "        side = 3.14 * self.R * (math.sqrt(self.R**2 + self.h**2))\n",
        "        a = base + side \n",
        "        print(\"Surface area of cone is :-\",a)                  \n",
        "c1 = cone()\n",
        "c1.Volume()\n",
        "c1.surface_area()"
      ],
      "execution_count": 2,
      "outputs": [
        {
          "output_type": "stream",
          "text": [
            "Enter the radius of the cone :- \n",
            "4\n",
            "Enter the height of the cone :- \n",
            "6\n",
            "Volume of cone is :- 100.48\n",
            "Surface area of cone is :- 140.8114480396554\n"
          ],
          "name": "stdout"
        }
      ]
    }
  ]
}